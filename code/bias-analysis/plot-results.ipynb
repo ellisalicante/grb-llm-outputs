{
 "cells": [
  {
   "cell_type": "markdown",
   "id": "d32a48c8",
   "metadata": {},
   "source": [
    "# Plot results\n",
    "\n",
    "Generate a bar chart comparing gender representation bias in the evaluated languages. Based on manual data entry (can be transferred from the output of `stats-summary.ipynb`)."
   ]
  },
  {
   "cell_type": "code",
   "execution_count": null,
   "id": "50247e17",
   "metadata": {},
   "outputs": [],
   "source": [
    "import matplotlib.pyplot as plt\n",
    "\n",
    "# Define the data\n",
    "data = {\n",
    "    \"Czech\": {\n",
    "        \"gpt-4o-mini\": 1.24,\n",
    "        \"gemma-2-27b\": 1.02,\n",
    "        \"Llama-4-Scout\": 1.80,\n",
    "        \"Mistral-7B\": 5.11,\n",
    "        \"Qwen2.5-7B\": 2.77,\n",
    "        \"EuroLLM-1.7B\": 3.01\n",
    "    },\n",
    "    \"Slovenian\": {\n",
    "        \"gpt-4o-mini\": 1.03,\n",
    "        \"gemma-2-27b\": 0.88,\n",
    "        \"Llama-4-Scout\": 1.97,\n",
    "        \"Mistral-7B\": 2.22,\n",
    "        \"Qwen2.5-7B\": 1.75,\n",
    "        \"GaMS-1B\": 1.71\n",
    "    }\n",
    "}\n",
    "\n",
    "# Create the plots\n",
    "fig, (ax1, ax2) = plt.subplots(1, 2, figsize=(11, 4), sharey=True)\n",
    "\n",
    "# Czech plot\n",
    "models_cz = list(data[\"Czech\"].keys())\n",
    "ratios_cz = list(data[\"Czech\"].values())\n",
    "bars_cz = ax1.bar(models_cz, ratios_cz, color=\"skyblue\")\n",
    "ax1.set_title(\"Czech\")\n",
    "ax1.set_xlabel(\"Model\")\n",
    "ax1.set_ylabel(\"M:F Ratio\")\n",
    "ax1.set_ylim(0, 6)\n",
    "ax1.tick_params(axis='x', rotation=45)\n",
    "ax1.grid(axis='y', linestyle='--', alpha=0.6)\n",
    "\n",
    "for bar in bars_cz:\n",
    "    height = bar.get_height()\n",
    "    ax1.text(bar.get_x() + bar.get_width() / 2, height + 0.1, f\"{height:.2f}\", ha='center', va='bottom', fontsize=9)\n",
    "\n",
    "# Slovenian plot\n",
    "models_sl = list(data[\"Slovenian\"].keys())\n",
    "ratios_sl = list(data[\"Slovenian\"].values())\n",
    "bars_sl = ax2.bar(models_sl, ratios_sl, color=\"lightgreen\")\n",
    "ax2.set_title(\"Slovenian\")\n",
    "ax2.set_xlabel(\"Model\")\n",
    "ax1.set_ylim(0, 6)\n",
    "ax2.tick_params(axis='x', rotation=45)\n",
    "ax2.grid(axis='y', linestyle='--', alpha=0.6)\n",
    "\n",
    "for bar in bars_sl:\n",
    "    height = bar.get_height()\n",
    "    ax2.text(bar.get_x() + bar.get_width() / 2, height + 0.1, f\"{height:.2f}\", ha='center', va='bottom', fontsize=9)\n",
    "\n",
    "# Finalize and save\n",
    "#fig.suptitle(\"Gender Representation Bias\", fontsize=14)\n",
    "plt.tight_layout()\n",
    "plt.savefig(\"grb-ratio.pdf\")\n",
    "plt.show()\n"
   ]
  },
  {
   "cell_type": "code",
   "execution_count": null,
   "id": "b7fd705c",
   "metadata": {},
   "outputs": [],
   "source": []
  }
 ],
 "metadata": {
  "kernelspec": {
   "display_name": "Python 3",
   "language": "python",
   "name": "python3"
  },
  "language_info": {
   "codemirror_mode": {
    "name": "ipython",
    "version": 3
   },
   "file_extension": ".py",
   "mimetype": "text/x-python",
   "name": "python",
   "nbconvert_exporter": "python",
   "pygments_lexer": "ipython3",
   "version": "3.12.2"
  }
 },
 "nbformat": 4,
 "nbformat_minor": 5
}
