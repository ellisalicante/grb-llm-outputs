{
 "cells": [
  {
   "cell_type": "markdown",
   "id": "b0c27d4d",
   "metadata": {},
   "source": [
    "# Statistics summary\n",
    "\n",
    "Crawl through the subfolder structure of `base_directory` and list all stats (as calculated and saved by `dataset-analysis-statistics.ipynb`)."
   ]
  },
  {
   "cell_type": "code",
   "execution_count": null,
   "id": "438a64e0",
   "metadata": {},
   "outputs": [],
   "source": [
    "import os\n",
    "import json\n",
    "\n",
    "base_directory = \"../../grb_eval/\""
   ]
  },
  {
   "cell_type": "code",
   "execution_count": null,
   "id": "286b3b6e",
   "metadata": {},
   "outputs": [],
   "source": [
    "def process_stats_files(base_dir):\n",
    "    for root, _, files in os.walk(base_dir):\n",
    "        for file in files:\n",
    "            if file.endswith('_stats.json'):\n",
    "                file_path = os.path.join(root, file)\n",
    "                try:\n",
    "                    with open(file_path, 'r') as f:\n",
    "                        data = json.load(f)\n",
    "                        M = data.get('M')\n",
    "                        F = data.get('F')\n",
    "                        M_F_ratio = data.get('M_F_ratio')\n",
    "                        print(f\"{file_path}: {M}, {F}, {M_F_ratio}\")\n",
    "                except (json.JSONDecodeError, KeyError, IOError) as e:\n",
    "                    print(f\"Failed to process {file_path}: {e}\")\n",
    "\n",
    "process_stats_files(base_directory)\n"
   ]
  }
 ],
 "metadata": {
  "kernelspec": {
   "display_name": "Python 3",
   "language": "python",
   "name": "python3"
  },
  "language_info": {
   "codemirror_mode": {
    "name": "ipython",
    "version": 3
   },
   "file_extension": ".py",
   "mimetype": "text/x-python",
   "name": "python",
   "nbconvert_exporter": "python",
   "pygments_lexer": "ipython3",
   "version": "3.12.2"
  }
 },
 "nbformat": 4,
 "nbformat_minor": 5
}
