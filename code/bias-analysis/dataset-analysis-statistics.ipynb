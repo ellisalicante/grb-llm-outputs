{
 "cells": [
  {
   "cell_type": "markdown",
   "id": "7cf8999d",
   "metadata": {},
   "source": [
    "# Calculate statistics of an annotated dataset\n",
    "\n",
    "For a given dataset folder with annotated texts, calculate the gender representation bias (ratio of masculine to feminine references)."
   ]
  },
  {
   "cell_type": "code",
   "execution_count": null,
   "id": "b87e9c04",
   "metadata": {},
   "outputs": [],
   "source": [
    "import json\n",
    "from pathlib import Path\n",
    "from tqdm.notebook import tqdm\n",
    "\n",
    "# Generator LLM\n",
    "gen_model = \"gpt-4o-mini\"\n",
    "#gen_model = \"google/gemma-2-27b-it\"\n",
    "#gen_model = \"meta-llama/Llama-4-Scout-17B-16E-Instruct\"\n",
    "#gen_model = \"mistralai/Mistral-7B-Instruct-v0.2\"\n",
    "#gen_model = \"Qwen/Qwen2.5-7B-Instruct-Turbo\"\n",
    "#gen_model = \"cjvt/GaMS-1B-Chat\"\n",
    "#gen_model = \"utter-project/EuroLLM-1.7B-Instruct\"\n",
    "\n",
    "dataset_name = \"stories\"\n",
    "exp_name = \"exp1\"\n",
    "\n",
    "#lang = \"cs\"\n",
    "lang = \"sl\"\n",
    "\n",
    "# Define input/output folders\n",
    "input_folder_string = f\"../../grb/{dataset_name}/{exp_name}/{gen_model}/{lang}\"\n",
    "input_folder = Path(input_folder_string)  # dataset to be analyzed\n",
    "output_folder = Path(input_folder_string.replace(\"/grb/\", \"/grb_eval/\"))\n",
    "summary_file = output_folder / \"_stats.json\""
   ]
  },
  {
   "cell_type": "code",
   "execution_count": null,
   "id": "b269fc0c",
   "metadata": {},
   "outputs": [],
   "source": [
    "# Ensure output folder exists\n",
    "output_folder.mkdir(parents=True, exist_ok=True)"
   ]
  },
  {
   "cell_type": "code",
   "execution_count": null,
   "id": "4b1b877b",
   "metadata": {},
   "outputs": [],
   "source": [
    "def compute_statistics(grb_data):\n",
    "    stats = {\"M\": 0, \"F\": 0}\n",
    "    for item in grb_data:\n",
    "        for entry in item.get(\"analysis\", []):\n",
    "            if entry[\"class\"] in stats:\n",
    "                stats[entry[\"class\"]] += 1\n",
    "    return stats"
   ]
  },
  {
   "cell_type": "code",
   "execution_count": null,
   "id": "1e92d304",
   "metadata": {},
   "outputs": [],
   "source": [
    "# Process each JSON file\n",
    "for json_file in tqdm(list(input_folder.glob(\"*.json\"))):\n",
    "    with json_file.open(\"r\", encoding=\"utf-8\") as f:\n",
    "        data = json.load(f)\n",
    "\n",
    "    grb = data.get(\"grb\", [])\n",
    "    statistics = compute_statistics(grb)\n",
    "    data[\"statistics\"] = statistics\n",
    "\n",
    "    # Save to corresponding output file\n",
    "    output_path = output_folder / json_file.name\n",
    "    with output_path.open(\"w\", encoding=\"utf-8\") as f:\n",
    "        json.dump(data, f, ensure_ascii=False, indent=4)"
   ]
  },
  {
   "cell_type": "code",
   "execution_count": null,
   "id": "a1a8b402",
   "metadata": {},
   "outputs": [],
   "source": [
    "# Summary statistics\n",
    "\n",
    "# Initialize counts\n",
    "total_M = 0\n",
    "total_F = 0\n",
    "\n",
    "# Go through all JSON files and accumulate stats\n",
    "for json_file in output_folder.glob(\"*.json\"):\n",
    "    if json_file.name == \"_stats.json\":\n",
    "        continue\n",
    "\n",
    "    with json_file.open(\"r\", encoding=\"utf-8\") as f:\n",
    "        data = json.load(f)\n",
    "        stats = data.get(\"statistics\", {})\n",
    "        total_M += stats.get(\"M\", 0)\n",
    "        total_F += stats.get(\"F\", 0)\n",
    "\n",
    "# Compute ratio\n",
    "ratio = total_M / total_F if total_F > 0 else float('inf')\n",
    "\n",
    "# Save summary\n",
    "summary_data = {\n",
    "    \"M\": total_M,\n",
    "    \"F\": total_F,\n",
    "    \"M_F_ratio\": round(ratio, 2)\n",
    "}\n",
    "\n",
    "with summary_file.open(\"w\", encoding=\"utf-8\") as f:\n",
    "    json.dump(summary_data, f, ensure_ascii=False, indent=4)"
   ]
  }
 ],
 "metadata": {
  "kernelspec": {
   "display_name": "base",
   "language": "python",
   "name": "python3"
  },
  "language_info": {
   "codemirror_mode": {
    "name": "ipython",
    "version": 3
   },
   "file_extension": ".py",
   "mimetype": "text/x-python",
   "name": "python",
   "nbconvert_exporter": "python",
   "pygments_lexer": "ipython3",
   "version": "3.12.4"
  }
 },
 "nbformat": 4,
 "nbformat_minor": 5
}
