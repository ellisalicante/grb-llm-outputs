{
 "cells": [
  {
   "cell_type": "markdown",
   "id": "46ffe469",
   "metadata": {},
   "source": [
    "# Validation Summary\n",
    "\n",
    "Extract F1 scores across experiment runs as calculated by `validation-gt.ipynb`."
   ]
  },
  {
   "cell_type": "code",
   "execution_count": null,
   "id": "d4066553",
   "metadata": {},
   "outputs": [],
   "source": [
    "import os\n",
    "import json\n",
    "\n",
    "# Param\n",
    "dataset_name = \"stories_val\"\n",
    "exp_name = \"val\"\n",
    "\n",
    "# Generator LLM\n",
    "gen_model = \"claude-3-7-sonnet-20250219\"\n",
    "\n",
    "# Evaluator LLM\n",
    "#eval_model = \"gpt-4o-2024-08-06\"\n",
    "#eval_model = \"gpt-4o-2024-11-20\"\n",
    "eval_model = \"gpt-4.1-2025-04-14\"\n",
    "#eval_model = \"meta-llama/Llama-4-Maverick-17B-128E-Instruct-FP8\"\n",
    "#eval_model = \"deepseek-ai/DeepSeek-V3\"\n",
    "\n",
    "#lang = \"cs\"\n",
    "lang = \"sl\"\n",
    "\n",
    "path_base = f\"../../grb/{dataset_name}/{exp_name}/{gen_model}/{lang}/{eval_model}\""
   ]
  },
  {
   "cell_type": "code",
   "execution_count": null,
   "id": "c3044e5f",
   "metadata": {},
   "outputs": [],
   "source": [
    "def extract_f1_from_file(file_path):\n",
    "    try:\n",
    "        with open(file_path, 'r', encoding='utf-8') as f:\n",
    "            data = json.load(f)\n",
    "            return data.get(\"stats\", {}).get(\"F1\")\n",
    "    except (json.JSONDecodeError, FileNotFoundError, PermissionError) as e:\n",
    "        print(f\"Error reading {file_path}: {e}\")\n",
    "        return None\n",
    "\n",
    "def crawl_and_extract_f1(start_directory):\n",
    "    f1_values = []\n",
    "    for root, dirs, files in os.walk(start_directory):\n",
    "        for file in files:\n",
    "            if file.endswith(\".json\"):\n",
    "                full_path = os.path.join(root, file)\n",
    "                f1_value = extract_f1_from_file(full_path)\n",
    "                if f1_value is not None:\n",
    "                    f1_values.append(f1_value)\n",
    "                    print(f\"{full_path}: F1 = {f1_value}\")\n",
    "    \n",
    "    print(f1_values)\n",
    "\n",
    "crawl_and_extract_f1(path_base)\n"
   ]
  },
  {
   "cell_type": "code",
   "execution_count": null,
   "id": "4f288b44",
   "metadata": {},
   "outputs": [],
   "source": []
  }
 ],
 "metadata": {
  "kernelspec": {
   "display_name": "base",
   "language": "python",
   "name": "python3"
  },
  "language_info": {
   "codemirror_mode": {
    "name": "ipython",
    "version": 3
   },
   "file_extension": ".py",
   "mimetype": "text/x-python",
   "name": "python",
   "nbconvert_exporter": "python",
   "pygments_lexer": "ipython3",
   "version": "3.12.4"
  }
 },
 "nbformat": 4,
 "nbformat_minor": 5
}
